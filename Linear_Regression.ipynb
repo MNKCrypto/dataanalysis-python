{
  "nbformat": 4,
  "nbformat_minor": 0,
  "metadata": {
    "colab": {
      "provenance": [],
      "gpuType": "T4",
      "authorship_tag": "ABX9TyP2o5E8BSE/6iwpnaa6hXI1",
      "include_colab_link": true
    },
    "kernelspec": {
      "name": "python3",
      "display_name": "Python 3"
    },
    "language_info": {
      "name": "python"
    },
    "accelerator": "GPU"
  },
  "cells": [
    {
      "cell_type": "markdown",
      "metadata": {
        "id": "view-in-github",
        "colab_type": "text"
      },
      "source": [
        "<a href=\"https://colab.research.google.com/github/MNKCrypto/dataanalysis-python/blob/main/Linear_Regression.ipynb\" target=\"_parent\"><img src=\"https://colab.research.google.com/assets/colab-badge.svg\" alt=\"Open In Colab\"/></a>"
      ]
    },
    {
      "cell_type": "code",
      "execution_count": 1,
      "metadata": {
        "colab": {
          "base_uri": "https://localhost:8080/",
          "height": 36
        },
        "id": "ItzAGeY7H6Kl",
        "outputId": "57e37052-19b2-4036-df5b-ff25187adc98"
      },
      "outputs": [
        {
          "output_type": "execute_result",
          "data": {
            "text/plain": [
              "'2.8.0+cu126'"
            ],
            "application/vnd.google.colaboratory.intrinsic+json": {
              "type": "string"
            }
          },
          "metadata": {},
          "execution_count": 1
        }
      ],
      "source": [
        "#Importing PyTorch and matplotlib\n",
        "import torch\n",
        "from torch import nn\n",
        "import matplotlib.pyplot as plt\n",
        "\n",
        "#Check the pytorch version\n",
        "torch.__version__"
      ]
    },
    {
      "cell_type": "code",
      "source": [
        "#Setup device-agnostic code\n",
        "#Will use GPU if available for faster computing if not will fallback to CPU.\n",
        "device = \"cuda\" if torch.cuda.is_available() else \"cpu\"\n",
        "\n",
        "print(f\"Using device: {device}\")\n"
      ],
      "metadata": {
        "colab": {
          "base_uri": "https://localhost:8080/"
        },
        "id": "zgwEjJM8IsFZ",
        "outputId": "29073e22-17a5-4fb7-8361-b77a427f48f2"
      },
      "execution_count": 2,
      "outputs": [
        {
          "output_type": "stream",
          "name": "stdout",
          "text": [
            "Using device: cuda\n"
          ]
        }
      ]
    },
    {
      "cell_type": "code",
      "source": [
        "# Pickup a linear regression sample equation => y = mx + c\n",
        "m = 0.7\n",
        "c = 0.3\n",
        "\n",
        "# Building range of values for x\n",
        "\n",
        "X = torch.arange(0,1,0.02).unsqueeze(dim=1)\n",
        "Y = m*X + c\n",
        "\n",
        "print(f\"X - {X[:10]}, Y - {Y[:10]}\")"
      ],
      "metadata": {
        "colab": {
          "base_uri": "https://localhost:8080/"
        },
        "id": "H-Yv0uySJJwj",
        "outputId": "1743e4c6-1171-43c0-dcea-f39a0d317523"
      },
      "execution_count": 5,
      "outputs": [
        {
          "output_type": "stream",
          "name": "stdout",
          "text": [
            "X - tensor([[0.0000],\n",
            "        [0.0200],\n",
            "        [0.0400],\n",
            "        [0.0600],\n",
            "        [0.0800],\n",
            "        [0.1000],\n",
            "        [0.1200],\n",
            "        [0.1400],\n",
            "        [0.1600],\n",
            "        [0.1800]]), Y - tensor([[0.3000],\n",
            "        [0.3140],\n",
            "        [0.3280],\n",
            "        [0.3420],\n",
            "        [0.3560],\n",
            "        [0.3700],\n",
            "        [0.3840],\n",
            "        [0.3980],\n",
            "        [0.4120],\n",
            "        [0.4260]])\n"
          ]
        }
      ]
    },
    {
      "cell_type": "code",
      "source": [
        "# Prepping up the training and testing data by split\n",
        "\n",
        "train_split = int (0.8 * len(X))\n",
        "X_train,Y_train = X[:train_split],Y[:train_split]\n",
        "X_test,Y_test = X[train_split:],Y[train_split:]\n",
        "print(f\"Length of the training dataset = X - {len(X_train)} Y - {len(Y_train)}\")\n",
        "print(f\"Length of the testing dataset = X - {len(X_test)} Y - {len(Y_test)}\")"
      ],
      "metadata": {
        "colab": {
          "base_uri": "https://localhost:8080/"
        },
        "id": "i4jXU0UdJ-3B",
        "outputId": "398b0263-e807-4934-b23a-20c8a9e1796c"
      },
      "execution_count": 6,
      "outputs": [
        {
          "output_type": "stream",
          "name": "stdout",
          "text": [
            "Length of the training dataset = X - 40 Y - 40\n",
            "Length of the testing dataset = X - 10 Y - 10\n"
          ]
        }
      ]
    },
    {
      "cell_type": "code",
      "source": [
        "#Plot the data\n",
        "def plot_predictions(train_data = X_train,\n",
        "                     train_labels = Y_train,\n",
        "                     test_data = X_test,\n",
        "                     test_labels = Y_test,\n",
        "                     predictions=None):\n",
        "\n",
        "  \"\"\"\n",
        "  Plots training data , test data and compares predictions.\n",
        "  \"\"\"\n",
        "\n",
        "  plt.figure(figsize=(10,7))\n",
        "  plt.scatter(train_data,train_labels,c='b',s=4,label = \"Training Data\") # c-> color,#s->Size of the the scatter dots\n",
        "  plt.scatter(test_data,test_labels,c='g',s=4,label = \"Test Data\") # c-> color,#s->Size of the the scatter dots\n",
        "\n",
        "  if predictions is not None:\n",
        "    plt.scatter(test_data,predictions,c='r',s=4,label = \"Predictions\") # c-> color,#s->Size of the the scatter dots\n",
        "  plt.legend(prop={\"size\":14})\n",
        "\n",
        "plot_predictions()"
      ],
      "metadata": {
        "colab": {
          "base_uri": "https://localhost:8080/",
          "height": 599
        },
        "id": "rBwMxfjbKcH7",
        "outputId": "4447af21-cdfe-466d-8767-174d261f9d34"
      },
      "execution_count": 7,
      "outputs": [
        {
          "output_type": "display_data",
          "data": {
            "text/plain": [
              "<Figure size 1000x700 with 1 Axes>"
            ],
            "image/png": "[encoded data removed]"
          },
          "metadata": {}
        }
      ]
    },
    {
      "cell_type": "code",
      "source": [
        "#Building a Linear Model\n",
        "\n",
        "class LinearRegressionModel(nn.Module):\n",
        "  def __init__(self):\n",
        "    super().__init__()\n",
        "    #Assign random values to the two parameters m and c\n",
        "    self.m = nn.Parameter(torch.randn(1,requires_grad=True,dtype=torch.float))\n",
        "    self.c= nn.Parameter(torch.randn(1,requires_grad=True,dtype=torch.float))\n",
        "\n",
        "#Forward method to perform computation\n",
        "  def forward(self,x:torch.Tensor) -> torch.Tensor:\n",
        "    return self.m * x + self.c\n"
      ],
      "metadata": {
        "id": "PIzuyy0WK7OL"
      },
      "execution_count": 10,
      "outputs": []
    },
    {
      "cell_type": "code",
      "source": [
        "torch.manual_seed(42)\n",
        "\n",
        "model_1 = LinearRegressionModel()\n",
        "\n",
        "model_1, model_1.state_dict()"
      ],
      "metadata": {
        "colab": {
          "base_uri": "https://localhost:8080/"
        },
        "id": "6cqkAdacK6-j",
        "outputId": "efa8fba0-c32c-4216-91b3-acf474a923e8"
      },
      "execution_count": 11,
      "outputs": [
        {
          "output_type": "execute_result",
          "data": {
            "text/plain": [
              "(LinearRegressionModel(),\n",
              " OrderedDict([('m', tensor([0.3367])), ('c', tensor([0.1288]))]))"
            ]
          },
          "metadata": {},
          "execution_count": 11
        }
      ]
    },
    {
      "cell_type": "code",
      "source": [
        "#Move the model to GPU\n",
        "model_1.to(device)\n",
        "next(model_1.parameters()).device\n",
        "\n",
        "#Put data on the target device as well\n",
        "\n",
        "X_train = X_train.to(device)\n",
        "Y_train = Y_train.to(device)\n",
        "X_test = X_test.to(device)\n",
        "Y_test = Y_test.to(device)"
      ],
      "metadata": {
        "id": "E__IXqRNUWQU"
      },
      "execution_count": 14,
      "outputs": []
    },
    {
      "cell_type": "code",
      "source": [
        "#Training the model\n",
        "\n",
        "\n",
        "#1. Define a loss function\n",
        "\n",
        "loss_fn = nn.L1Loss()\n",
        "\n",
        "#2. Define a optimizer\n",
        "\n",
        "optimizer = torch.optim.Adam(lr=0.01,params=model_1.parameters())\n",
        "\n",
        "\n",
        "epochs=200\n",
        "\n",
        "for epoch in range(epochs):\n",
        "\n",
        "  #1. Set the training mode\n",
        "  model_1.train()\n",
        "\n",
        "  #2. Forward pass\n",
        "  y_pred = model_1.forward(X_train)\n",
        "\n",
        "  #3. Calculate the loss\n",
        "  loss = loss_fn(y_pred,Y_train)\n",
        "\n",
        "  #4. Zero the grad\n",
        "  optimizer.zero_grad()\n",
        "\n",
        "  #5. backpropagration\n",
        "  loss.backward()\n",
        "\n",
        "  #6. Optimizer step\n",
        "  optimizer.step()\n",
        "\n",
        "\n",
        "  #Testing mode\n",
        "\n",
        "  model_1.eval()\n",
        "\n",
        "  with torch.inference_mode():\n",
        "    test_pred = model_1(X_test)\n",
        "    test_loss = loss_fn(test_pred,Y_test)\n",
        "\n",
        "  if epoch % 10 == 0:\n",
        "    print(f\"Epoch : {epoch}| Loss: {loss} | Test Loss : {test_loss}\")\n"
      ],
      "metadata": {
        "colab": {
          "base_uri": "https://localhost:8080/"
        },
        "id": "fdKeEN6ATm-S",
        "outputId": "b90fd96e-0c82-44f3-e21b-c62b69c7d3c1"
      },
      "execution_count": 20,
      "outputs": [
        {
          "output_type": "stream",
          "name": "stdout",
          "text": [
            "Epoch : 0| Loss: 0.2572813630104065 | Test Loss : 0.40003618597984314\n",
            "Epoch : 10| Loss: 0.11828134208917618 | Test Loss : 0.21103624999523163\n",
            "Epoch : 20| Loss: 0.026902804151177406 | Test Loss : 0.03443029522895813\n",
            "Epoch : 30| Loss: 0.02953474037349224 | Test Loss : 0.029879290610551834\n",
            "Epoch : 40| Loss: 0.02363811992108822 | Test Loss : 0.06569613516330719\n",
            "Epoch : 50| Loss: 0.012545222416520119 | Test Loss : 0.015546673908829689\n",
            "Epoch : 60| Loss: 0.005088135600090027 | Test Loss : 0.011914044618606567\n",
            "Epoch : 70| Loss: 0.002686708467081189 | Test Loss : 0.008320611901581287\n",
            "Epoch : 80| Loss: 0.00035117269726470113 | Test Loss : 0.0038587271701544523\n",
            "Epoch : 90| Loss: 0.0013337157433852553 | Test Loss : 0.0005564510938711464\n",
            "Epoch : 100| Loss: 0.001616150140762329 | Test Loss : 0.00310150976292789\n",
            "Epoch : 110| Loss: 0.002368675312027335 | Test Loss : 0.00485806493088603\n",
            "Epoch : 120| Loss: 0.002158337039873004 | Test Loss : 0.0007806599023751915\n",
            "Epoch : 130| Loss: 0.0025731392670422792 | Test Loss : 0.0017471670871600509\n",
            "Epoch : 140| Loss: 0.0014318764442577958 | Test Loss : 0.002888375660404563\n",
            "Epoch : 150| Loss: 0.0005794711760245264 | Test Loss : 0.0021057368721812963\n",
            "Epoch : 160| Loss: 0.0005802832893095911 | Test Loss : 0.002198773669078946\n",
            "Epoch : 170| Loss: 0.0010289050405845046 | Test Loss : 0.001991313649341464\n",
            "Epoch : 180| Loss: 0.00019656420045066625 | Test Loss : 0.0014369785785675049\n",
            "Epoch : 190| Loss: 0.0005982398870401084 | Test Loss : 0.00013404489436652511\n"
          ]
        }
      ]
    },
    {
      "cell_type": "code",
      "source": [
        "#Estimated model parameters\n",
        "print(f\"Actual - m -> {m}, c-> {c}. Estimated - {model_1.state_dict()}\")"
      ],
      "metadata": {
        "colab": {
          "base_uri": "https://localhost:8080/"
        },
        "id": "BvV1KoJ2YM-s",
        "outputId": "f159a37d-bc4f-4fed-adda-91c1b71d3981"
      },
      "execution_count": 25,
      "outputs": [
        {
          "output_type": "stream",
          "name": "stdout",
          "text": [
            "Actual - m -> 0.7, c-> 0.3. Estimated - OrderedDict({'m': tensor([0.6983], device='cuda:0'), 'c': tensor([0.2983], device='cuda:0')})\n"
          ]
        }
      ]
    },
    {
      "cell_type": "code",
      "source": [
        "#Plotting\n",
        "plot_predictions(predictions=test_pred.cpu().numpy())"
      ],
      "metadata": {
        "colab": {
          "base_uri": "https://localhost:8080/",
          "height": 599
        },
        "id": "WVNbLRAFYM0A",
        "outputId": "15ca72f0-e2d9-4536-e707-0f9f14d93bb6"
      },
      "execution_count": 28,
      "outputs": [
        {
          "output_type": "display_data",
          "data": {
            "text/plain": [
              "<Figure size 1000x700 with 1 Axes>"
            ],
            "image/png": "[encoded data removed]"
          },
          "metadata": {}
        }
      ]
    },
    {
      "cell_type": "code",
      "source": [
        "#Save and load the models\n",
        "from pathlib import Path\n",
        "\n",
        "#Create models directory\n",
        "\n",
        "MODEL_PATH = Path(\"models\")\n",
        "MODEL_PATH.mkdir(parents=True,exist_ok=True)\n",
        "\n",
        "MODEL_SAVE_PATH = MODEL_PATH/\"linear_regression_1.pth\"\n",
        "\n",
        "# Save the mode\n",
        "print(f\"Saving the model to : {MODEL_SAVE_PATH}\")\n",
        "torch.save(obj=model_1.state_dict(),f=MODEL_SAVE_PATH)"
      ],
      "metadata": {
        "colab": {
          "base_uri": "https://localhost:8080/"
        },
        "id": "Xnfil98PaLCz",
        "outputId": "a426eb61-dfce-4d0b-d3f1-122729cd2642"
      },
      "execution_count": 30,
      "outputs": [
        {
          "output_type": "stream",
          "name": "stdout",
          "text": [
            "Saving the model to : models/linear_regression_1.pth\n"
          ]
        }
      ]
    },
    {
      "cell_type": "code",
      "source": [
        "#Loading back the model\n",
        "\n",
        "model_2 = LinearRegressionModel()\n",
        "model_2.load_state_dict(torch.load(f=MODEL_SAVE_PATH))\n",
        "model_2.to(device)\n",
        "model_2.state_dict(),model_1.state_dict()"
      ],
      "metadata": {
        "colab": {
          "base_uri": "https://localhost:8080/"
        },
        "id": "XtlMs8f7a9Ql",
        "outputId": "ce455f7d-0f52-4da4-a5a5-ae1f4f645b50"
      },
      "execution_count": 33,
      "outputs": [
        {
          "output_type": "execute_result",
          "data": {
            "text/plain": [
              "(OrderedDict([('m', tensor([0.6983], device='cuda:0')),\n",
              "              ('c', tensor([0.2983], device='cuda:0'))]),\n",
              " OrderedDict([('m', tensor([0.6983], device='cuda:0')),\n",
              "              ('c', tensor([0.2983], device='cuda:0'))]))"
            ]
          },
          "metadata": {},
          "execution_count": 33
        }
      ]
    }
  ]
}